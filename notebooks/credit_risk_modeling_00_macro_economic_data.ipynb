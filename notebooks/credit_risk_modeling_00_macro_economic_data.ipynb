{
 "cells": [
  {
   "cell_type": "markdown",
   "metadata": {},
   "source": [
    "### Macro Economic Variables \n",
    "\n",
    "Economic Data gives an indication of the overall health of an economy. Metrics for unemployment, sales, output are published monthly, quarterly or annually.\n",
    "\n",
    "Market Data represents prices.  Market data includes stock prices, bond prices, FX rates (the price of a currency), bond prices and interest rates (the price of money). Prices are market quotes in an intraday format or end of day format. We have sourced end of day prices as the granularity of intraday prices is not required.\n",
    "\n",
    "This workbook contains economic data and market data sourced independently from the loans dataset.\n",
    "All the series come from from : \"www.macrotrends.net\"\n",
    "\n",
    "DISCLAIMER AND TERMS OF USE: HISTORICAL DATA IS PROVIDED \"AS IS\" AND SOLELY\n",
    "FOR INFORMATIONAL PURPOSES - NOT FOR TRADING PURPOSES OR ADVICE.\n",
    "NEITHER MACROTRENDS LLC NOR ANY OF OUR INFORMATION PROVIDERS WILL BE LIABLE\n",
    "FOR ANY DAMAGES RELATING TO YOUR USE OF THE DATA PROVIDED.\n",
    "\n",
    "* For NATIONAL UNEMPLOYMENT do follow: https://www.macrotrends.net/1316/us-national-unemployment-rate\n",
    "* For RETAIL SALES do follow:https://www.macrotrends.net/1371/retail-sales-historical-chart\n",
    "* For TED SPREAD do follow: https://www.macrotrends.net/1447/ted-spread-historical-chart \n",
    "* For VIX do follow: https://www.macrotrends.net/2603/vix-volatility-index-historical-chart"
   ]
  },
  {
   "cell_type": "markdown",
   "metadata": {},
   "source": [
    "### This Note book:\n",
    "\n",
    "Imports US national monthly unemployment rates from a csv sourced from macrotrends.net \n",
    "Imports daily VIX end of day quotes from a csv sourced from macrotrends.net\n",
    "Imports daily Ted spread end of day quotes from a csv sourced from macrotrends.net\n",
    "Imports monthly retail sales date for the US\n",
    "\n"
   ]
  },
  {
   "cell_type": "markdown",
   "metadata": {},
   "source": [
    "### Import Libraries"
   ]
  },
  {
   "cell_type": "code",
   "execution_count": 1,
   "metadata": {
    "scrolled": true
   },
   "outputs": [],
   "source": [
    "import pandas as pd\n",
    "import numpy as np\n",
    "import pickle\n",
    "import clockwork_orange as clockwork"
   ]
  },
  {
   "cell_type": "code",
   "execution_count": 2,
   "metadata": {},
   "outputs": [],
   "source": [
    "%load_ext autoreload\n",
    "%autoreload 2\n",
    "%reload_ext autoreload"
   ]
  },
  {
   "cell_type": "markdown",
   "metadata": {},
   "source": [
    "### Import Economic and Market Data \n",
    "\n",
    "Economic Data gives an indication of the overall health of an economy. Metrics for key variables such as unemployment, sales, output are published monthly, quarterly or annually.\n",
    "\n",
    "Market Data represents prices.  Prices include stock prices, bond prices, FX rates (the price of a currency), bond prices and interest rates (the price of money). Prices come from market quotes which intraday format or end of day format. We have sourced end of day prices.\n",
    "\n",
    "The consumer loan dataset has a field month of issue date 'issue_d'. The market and economic variables will be mapped using this field. "
   ]
  },
  {
   "cell_type": "markdown",
   "metadata": {},
   "source": [
    "### Economic Data"
   ]
  },
  {
   "cell_type": "markdown",
   "metadata": {},
   "source": [
    "### Unemployment\n",
    "\n",
    "National Unemployment rates re published monthly in the US.  Our loan data has a month of issue feature so we will be able to map unemployment to month of issue for each loan.\n",
    "We would expect unemployment to have a postive relationship with the probability of default. As unemployment increases, it would be reasonable to expect default and the probabilty of default to increase."
   ]
  },
  {
   "cell_type": "code",
   "execution_count": 3,
   "metadata": {},
   "outputs": [],
   "source": [
    "unemployment_data_backup = pd.read_csv('../data/nat_unemployment.csv')"
   ]
  },
  {
   "cell_type": "code",
   "execution_count": 4,
   "metadata": {},
   "outputs": [],
   "source": [
    "unemployment_data = unemployment_data_backup.copy()"
   ]
  },
  {
   "cell_type": "code",
   "execution_count": 5,
   "metadata": {},
   "outputs": [
    {
     "data": {
      "text/html": [
       "<div>\n",
       "<style scoped>\n",
       "    .dataframe tbody tr th:only-of-type {\n",
       "        vertical-align: middle;\n",
       "    }\n",
       "\n",
       "    .dataframe tbody tr th {\n",
       "        vertical-align: top;\n",
       "    }\n",
       "\n",
       "    .dataframe thead th {\n",
       "        text-align: right;\n",
       "    }\n",
       "</style>\n",
       "<table border=\"1\" class=\"dataframe\">\n",
       "  <thead>\n",
       "    <tr style=\"text-align: right;\">\n",
       "      <th></th>\n",
       "      <th>date</th>\n",
       "      <th>nat_unemp</th>\n",
       "      <th>concat</th>\n",
       "    </tr>\n",
       "  </thead>\n",
       "  <tbody>\n",
       "    <tr>\n",
       "      <th>0</th>\n",
       "      <td>01/01/2007</td>\n",
       "      <td>4.6</td>\n",
       "      <td>Jan-07</td>\n",
       "    </tr>\n",
       "    <tr>\n",
       "      <th>1</th>\n",
       "      <td>01/02/2007</td>\n",
       "      <td>4.5</td>\n",
       "      <td>Feb-07</td>\n",
       "    </tr>\n",
       "    <tr>\n",
       "      <th>2</th>\n",
       "      <td>01/03/2007</td>\n",
       "      <td>4.4</td>\n",
       "      <td>Mar-07</td>\n",
       "    </tr>\n",
       "    <tr>\n",
       "      <th>3</th>\n",
       "      <td>01/04/2007</td>\n",
       "      <td>4.5</td>\n",
       "      <td>Apr-07</td>\n",
       "    </tr>\n",
       "    <tr>\n",
       "      <th>4</th>\n",
       "      <td>01/05/2007</td>\n",
       "      <td>4.4</td>\n",
       "      <td>May-07</td>\n",
       "    </tr>\n",
       "  </tbody>\n",
       "</table>\n",
       "</div>"
      ],
      "text/plain": [
       "         date  nat_unemp  concat\n",
       "0  01/01/2007        4.6  Jan-07\n",
       "1  01/02/2007        4.5  Feb-07\n",
       "2  01/03/2007        4.4  Mar-07\n",
       "3  01/04/2007        4.5  Apr-07\n",
       "4  01/05/2007        4.4  May-07"
      ]
     },
     "execution_count": 5,
     "metadata": {},
     "output_type": "execute_result"
    }
   ],
   "source": [
    "unemployment_data.head()"
   ]
  },
  {
   "cell_type": "code",
   "execution_count": 6,
   "metadata": {},
   "outputs": [
    {
     "data": {
      "text/html": [
       "<div>\n",
       "<style scoped>\n",
       "    .dataframe tbody tr th:only-of-type {\n",
       "        vertical-align: middle;\n",
       "    }\n",
       "\n",
       "    .dataframe tbody tr th {\n",
       "        vertical-align: top;\n",
       "    }\n",
       "\n",
       "    .dataframe thead th {\n",
       "        text-align: right;\n",
       "    }\n",
       "</style>\n",
       "<table border=\"1\" class=\"dataframe\">\n",
       "  <thead>\n",
       "    <tr style=\"text-align: right;\">\n",
       "      <th></th>\n",
       "      <th>issue_d</th>\n",
       "      <th>nat_unemp</th>\n",
       "    </tr>\n",
       "  </thead>\n",
       "  <tbody>\n",
       "    <tr>\n",
       "      <th>0</th>\n",
       "      <td>Jan-07</td>\n",
       "      <td>4.6</td>\n",
       "    </tr>\n",
       "    <tr>\n",
       "      <th>1</th>\n",
       "      <td>Feb-07</td>\n",
       "      <td>4.5</td>\n",
       "    </tr>\n",
       "  </tbody>\n",
       "</table>\n",
       "</div>"
      ],
      "text/plain": [
       "  issue_d  nat_unemp\n",
       "0  Jan-07        4.6\n",
       "1  Feb-07        4.5"
      ]
     },
     "execution_count": 6,
     "metadata": {},
     "output_type": "execute_result"
    }
   ],
   "source": [
    "unemployment_data = clockwork.monthly_data(unemployment_data, 'nat_unemp')\n",
    "unemployment_data.head(2)"
   ]
  },
  {
   "cell_type": "markdown",
   "metadata": {},
   "source": [
    "### Retail Sales\n",
    "Retail sales figures are published monthly in the US, so we can join retail sales data to indiviual loans in a similar way to unemployment. Retail sales are interesting because increasing reatil sales are an indicator of an economy doing well, so we could expect increaing retails sales to be related to a lower probability of default, or we could expect increasing sales to be related to loose credit policy and increased defaults. We will have to wait and see.....\n",
    "\n",
    "Economic and finacial data is capricious in nature.... "
   ]
  },
  {
   "cell_type": "code",
   "execution_count": 7,
   "metadata": {},
   "outputs": [],
   "source": [
    "retail_data_backup = pd.read_csv('../data/retail-sales.csv')"
   ]
  },
  {
   "cell_type": "code",
   "execution_count": 8,
   "metadata": {
    "scrolled": true
   },
   "outputs": [],
   "source": [
    "retail_data = retail_data_backup.copy()"
   ]
  },
  {
   "cell_type": "code",
   "execution_count": 9,
   "metadata": {},
   "outputs": [
    {
     "data": {
      "text/html": [
       "<div>\n",
       "<style scoped>\n",
       "    .dataframe tbody tr th:only-of-type {\n",
       "        vertical-align: middle;\n",
       "    }\n",
       "\n",
       "    .dataframe tbody tr th {\n",
       "        vertical-align: top;\n",
       "    }\n",
       "\n",
       "    .dataframe thead th {\n",
       "        text-align: right;\n",
       "    }\n",
       "</style>\n",
       "<table border=\"1\" class=\"dataframe\">\n",
       "  <thead>\n",
       "    <tr style=\"text-align: right;\">\n",
       "      <th></th>\n",
       "      <th>issue_d</th>\n",
       "      <th>retail_sales</th>\n",
       "    </tr>\n",
       "  </thead>\n",
       "  <tbody>\n",
       "    <tr>\n",
       "      <th>0</th>\n",
       "      <td>Jan-07</td>\n",
       "      <td>1.000000</td>\n",
       "    </tr>\n",
       "    <tr>\n",
       "      <th>1</th>\n",
       "      <td>Feb-07</td>\n",
       "      <td>0.997208</td>\n",
       "    </tr>\n",
       "  </tbody>\n",
       "</table>\n",
       "</div>"
      ],
      "text/plain": [
       "  issue_d  retail_sales\n",
       "0  Jan-07      1.000000\n",
       "1  Feb-07      0.997208"
      ]
     },
     "execution_count": 9,
     "metadata": {},
     "output_type": "execute_result"
    }
   ],
   "source": [
    "retail_data = clockwork.monthly_data(retail_data, 'retail_sales')\n",
    "retail_data.head(2)"
   ]
  },
  {
   "cell_type": "markdown",
   "metadata": {},
   "source": [
    "### Market Data: Daily Data\n",
    "\n",
    "Daily data will be transformed to a monthly equivalent to make it compatible the loans data set.  It is reasonable to assume that the consumer loans market is influenced by the market prices but daily price swings impact main street less than wall street, but the effects will feed into the consumer loans markets.  \n",
    "\n",
    "Given we have daily data and need monthly metrics we are able to engineer additional features such as monthly min, max, and spread between min and max, max daily spread, etc."
   ]
  },
  {
   "cell_type": "markdown",
   "metadata": {},
   "source": [
    "### The Vix Volatility Index: Uncertainty\n",
    "\n",
    "The VIX is traded Volatility Index that is based on S&P500 call and put option prices. You can buy futures and options on the index. \n",
    "The VIX Index is a calculation designed to produce a measure of constant, 30-day expected volatility of the U.S. stock market, derived from real-time, mid-quote prices of S&P 500® Index (SPXSM) call and put options. On a global basis, it is one of the most recognized measures of volatility -- widely reported by financial media and closely followed by a variety of market participants as a daily market indicator.\n",
    "Basically when the VIX goes up volatility is increasing and there is more uncertainty in the economy. We would VIX increases to be associated with higher levels of default.  \n",
    "\n",
    "\n",
    "Here is a link to the Chicago Board of Exchange VIX Page http://www.cboe.com/vix"
   ]
  },
  {
   "cell_type": "code",
   "execution_count": 10,
   "metadata": {},
   "outputs": [],
   "source": [
    "vix_data_backup = pd.read_csv('../data/vix-daily-data.csv')"
   ]
  },
  {
   "cell_type": "code",
   "execution_count": 11,
   "metadata": {},
   "outputs": [],
   "source": [
    "vix_data = vix_data_backup.copy()"
   ]
  },
  {
   "cell_type": "code",
   "execution_count": 12,
   "metadata": {},
   "outputs": [
    {
     "data": {
      "text/html": [
       "<div>\n",
       "<style scoped>\n",
       "    .dataframe tbody tr th:only-of-type {\n",
       "        vertical-align: middle;\n",
       "    }\n",
       "\n",
       "    .dataframe tbody tr th {\n",
       "        vertical-align: top;\n",
       "    }\n",
       "\n",
       "    .dataframe thead th {\n",
       "        text-align: right;\n",
       "    }\n",
       "</style>\n",
       "<table border=\"1\" class=\"dataframe\">\n",
       "  <thead>\n",
       "    <tr style=\"text-align: right;\">\n",
       "      <th></th>\n",
       "      <th>date</th>\n",
       "      <th>vix</th>\n",
       "      <th>issue_d</th>\n",
       "    </tr>\n",
       "  </thead>\n",
       "  <tbody>\n",
       "    <tr>\n",
       "      <th>0</th>\n",
       "      <td>03/01/2007</td>\n",
       "      <td>12.04</td>\n",
       "      <td>Jan-07</td>\n",
       "    </tr>\n",
       "    <tr>\n",
       "      <th>1</th>\n",
       "      <td>04/01/2007</td>\n",
       "      <td>11.51</td>\n",
       "      <td>Jan-07</td>\n",
       "    </tr>\n",
       "  </tbody>\n",
       "</table>\n",
       "</div>"
      ],
      "text/plain": [
       "         date    vix issue_d\n",
       "0  03/01/2007  12.04  Jan-07\n",
       "1  04/01/2007  11.51  Jan-07"
      ]
     },
     "execution_count": 12,
     "metadata": {},
     "output_type": "execute_result"
    }
   ],
   "source": [
    "vix_data.rename(columns={'concat':'issue_d'}, inplace=True)\n",
    "vix_data = vix_data[['date', 'vix', 'issue_d']]\n",
    "vix_data.head(2)"
   ]
  },
  {
   "cell_type": "code",
   "execution_count": 13,
   "metadata": {},
   "outputs": [],
   "source": [
    "date_map = vix_data.copy()\n",
    "date_map = date_map.iloc[:,:3].astype(str)\n",
    "date_map = pd.DataFrame(date_map)\n",
    "date_map['ts_date'] = '01-' + date_map['issue_d'].astype(str)\n",
    "\n",
    "date_map.drop('vix', axis=1, inplace=True)\n",
    "date_map.drop('date', axis=1, inplace=True)\n",
    "\n",
    "len(date_map)\n",
    "df = date_map['ts_date'].unique()\n",
    "df2 = date_map['issue_d'].unique()\n",
    "\n",
    "dates_map = dict(zip(df2, df))"
   ]
  },
  {
   "cell_type": "code",
   "execution_count": 14,
   "metadata": {
    "scrolled": true
   },
   "outputs": [],
   "source": [
    "vix_data = clockwork.mkt_data_transform(vix_data,'vix')"
   ]
  },
  {
   "cell_type": "code",
   "execution_count": 15,
   "metadata": {},
   "outputs": [
    {
     "data": {
      "text/html": [
       "<div>\n",
       "<style scoped>\n",
       "    .dataframe tbody tr th:only-of-type {\n",
       "        vertical-align: middle;\n",
       "    }\n",
       "\n",
       "    .dataframe tbody tr th {\n",
       "        vertical-align: top;\n",
       "    }\n",
       "\n",
       "    .dataframe thead th {\n",
       "        text-align: right;\n",
       "    }\n",
       "</style>\n",
       "<table border=\"1\" class=\"dataframe\">\n",
       "  <thead>\n",
       "    <tr style=\"text-align: right;\">\n",
       "      <th></th>\n",
       "      <th>vix_mean</th>\n",
       "      <th>vix_min</th>\n",
       "      <th>vix_max</th>\n",
       "      <th>vix_spread</th>\n",
       "      <th>issue_d</th>\n",
       "      <th>year</th>\n",
       "    </tr>\n",
       "    <tr>\n",
       "      <th>year</th>\n",
       "      <th></th>\n",
       "      <th></th>\n",
       "      <th></th>\n",
       "      <th></th>\n",
       "      <th></th>\n",
       "      <th></th>\n",
       "    </tr>\n",
       "  </thead>\n",
       "  <tbody>\n",
       "    <tr>\n",
       "      <th>01-Apr-07</th>\n",
       "      <td>12.93</td>\n",
       "      <td>11.98</td>\n",
       "      <td>14.53</td>\n",
       "      <td>2.55</td>\n",
       "      <td>Apr-07</td>\n",
       "      <td>01-Apr-07</td>\n",
       "    </tr>\n",
       "    <tr>\n",
       "      <th>01-Apr-08</th>\n",
       "      <td>21.56</td>\n",
       "      <td>19.59</td>\n",
       "      <td>23.82</td>\n",
       "      <td>4.23</td>\n",
       "      <td>Apr-08</td>\n",
       "      <td>01-Apr-08</td>\n",
       "    </tr>\n",
       "    <tr>\n",
       "      <th>01-Apr-09</th>\n",
       "      <td>38.06</td>\n",
       "      <td>33.94</td>\n",
       "      <td>42.28</td>\n",
       "      <td>8.34</td>\n",
       "      <td>Apr-09</td>\n",
       "      <td>01-Apr-09</td>\n",
       "    </tr>\n",
       "    <tr>\n",
       "      <th>01-Apr-10</th>\n",
       "      <td>17.42</td>\n",
       "      <td>15.58</td>\n",
       "      <td>22.81</td>\n",
       "      <td>7.23</td>\n",
       "      <td>Apr-10</td>\n",
       "      <td>01-Apr-10</td>\n",
       "    </tr>\n",
       "    <tr>\n",
       "      <th>01-Apr-11</th>\n",
       "      <td>16.24</td>\n",
       "      <td>14.62</td>\n",
       "      <td>17.87</td>\n",
       "      <td>3.25</td>\n",
       "      <td>Apr-11</td>\n",
       "      <td>01-Apr-11</td>\n",
       "    </tr>\n",
       "    <tr>\n",
       "      <th>...</th>\n",
       "      <td>...</td>\n",
       "      <td>...</td>\n",
       "      <td>...</td>\n",
       "      <td>...</td>\n",
       "      <td>...</td>\n",
       "      <td>...</td>\n",
       "    </tr>\n",
       "    <tr>\n",
       "      <th>01-Sep-15</th>\n",
       "      <td>24.38</td>\n",
       "      <td>20.14</td>\n",
       "      <td>31.40</td>\n",
       "      <td>11.26</td>\n",
       "      <td>Sep-15</td>\n",
       "      <td>01-Sep-15</td>\n",
       "    </tr>\n",
       "    <tr>\n",
       "      <th>01-Sep-16</th>\n",
       "      <td>14.22</td>\n",
       "      <td>11.94</td>\n",
       "      <td>18.14</td>\n",
       "      <td>6.20</td>\n",
       "      <td>Sep-16</td>\n",
       "      <td>01-Sep-16</td>\n",
       "    </tr>\n",
       "    <tr>\n",
       "      <th>01-Sep-17</th>\n",
       "      <td>10.44</td>\n",
       "      <td>9.51</td>\n",
       "      <td>12.23</td>\n",
       "      <td>2.72</td>\n",
       "      <td>Sep-17</td>\n",
       "      <td>01-Sep-17</td>\n",
       "    </tr>\n",
       "    <tr>\n",
       "      <th>01-Sep-18</th>\n",
       "      <td>12.91</td>\n",
       "      <td>11.68</td>\n",
       "      <td>14.88</td>\n",
       "      <td>3.20</td>\n",
       "      <td>Sep-18</td>\n",
       "      <td>01-Sep-18</td>\n",
       "    </tr>\n",
       "    <tr>\n",
       "      <th>01-Sep-19</th>\n",
       "      <td>15.56</td>\n",
       "      <td>13.74</td>\n",
       "      <td>19.66</td>\n",
       "      <td>5.92</td>\n",
       "      <td>Sep-19</td>\n",
       "      <td>01-Sep-19</td>\n",
       "    </tr>\n",
       "  </tbody>\n",
       "</table>\n",
       "<p>156 rows × 6 columns</p>\n",
       "</div>"
      ],
      "text/plain": [
       "           vix_mean  vix_min  vix_max  vix_spread issue_d       year\n",
       "year                                                                \n",
       "01-Apr-07     12.93    11.98    14.53        2.55  Apr-07  01-Apr-07\n",
       "01-Apr-08     21.56    19.59    23.82        4.23  Apr-08  01-Apr-08\n",
       "01-Apr-09     38.06    33.94    42.28        8.34  Apr-09  01-Apr-09\n",
       "01-Apr-10     17.42    15.58    22.81        7.23  Apr-10  01-Apr-10\n",
       "01-Apr-11     16.24    14.62    17.87        3.25  Apr-11  01-Apr-11\n",
       "...             ...      ...      ...         ...     ...        ...\n",
       "01-Sep-15     24.38    20.14    31.40       11.26  Sep-15  01-Sep-15\n",
       "01-Sep-16     14.22    11.94    18.14        6.20  Sep-16  01-Sep-16\n",
       "01-Sep-17     10.44     9.51    12.23        2.72  Sep-17  01-Sep-17\n",
       "01-Sep-18     12.91    11.68    14.88        3.20  Sep-18  01-Sep-18\n",
       "01-Sep-19     15.56    13.74    19.66        5.92  Sep-19  01-Sep-19\n",
       "\n",
       "[156 rows x 6 columns]"
      ]
     },
     "execution_count": 15,
     "metadata": {},
     "output_type": "execute_result"
    }
   ],
   "source": [
    "vix_data[\"issue_d\"] = vix_data.index.astype(str)\n",
    "vix_data[\"year\"] = '01-' + vix_data.index.astype(str)\n",
    "vix_data.index = vix_data[\"year\"]\n",
    "vix_data"
   ]
  },
  {
   "cell_type": "markdown",
   "metadata": {},
   "source": [
    "### Ted Spread: Credit Risk\n",
    "\n",
    "The Ted Spread is a spread between USD 3M Libor and the interest rate on short term treasury bills (T-Bills)*\n",
    "It is considered as a measure of credit risk. when credit risk is high 3M Libor increases and the spread to T-Bills widens, and when credit risk is low the spread narrows.\n",
    "\n",
    "(IBOR = Interbank Offered Rate, which is the rate banks lend to each other)\n",
    "(Ted spread calculation will change after the cessation of Libor. Ibor transition will be to SOFR Secured Overnight Funding Rate ). There will be a SOFR Spread soon!\n",
    "\n",
    "https://www.investopedia.com/terms/t/tedspread.asp"
   ]
  },
  {
   "cell_type": "code",
   "execution_count": 16,
   "metadata": {},
   "outputs": [
    {
     "data": {
      "text/html": [
       "<div>\n",
       "<style scoped>\n",
       "    .dataframe tbody tr th:only-of-type {\n",
       "        vertical-align: middle;\n",
       "    }\n",
       "\n",
       "    .dataframe tbody tr th {\n",
       "        vertical-align: top;\n",
       "    }\n",
       "\n",
       "    .dataframe thead th {\n",
       "        text-align: right;\n",
       "    }\n",
       "</style>\n",
       "<table border=\"1\" class=\"dataframe\">\n",
       "  <thead>\n",
       "    <tr style=\"text-align: right;\">\n",
       "      <th></th>\n",
       "      <th>date</th>\n",
       "      <th>value</th>\n",
       "      <th>day</th>\n",
       "      <th>month</th>\n",
       "      <th>mnth</th>\n",
       "      <th>concat</th>\n",
       "    </tr>\n",
       "  </thead>\n",
       "  <tbody>\n",
       "    <tr>\n",
       "      <th>0</th>\n",
       "      <td>02/01/2007</td>\n",
       "      <td>0.42</td>\n",
       "      <td>1</td>\n",
       "      <td>2007</td>\n",
       "      <td>Jan-</td>\n",
       "      <td>Jan-07</td>\n",
       "    </tr>\n",
       "    <tr>\n",
       "      <th>1</th>\n",
       "      <td>03/01/2007</td>\n",
       "      <td>0.44</td>\n",
       "      <td>1</td>\n",
       "      <td>2007</td>\n",
       "      <td>Jan-</td>\n",
       "      <td>Jan-07</td>\n",
       "    </tr>\n",
       "    <tr>\n",
       "      <th>2</th>\n",
       "      <td>04/01/2007</td>\n",
       "      <td>0.45</td>\n",
       "      <td>1</td>\n",
       "      <td>2007</td>\n",
       "      <td>Jan-</td>\n",
       "      <td>Jan-07</td>\n",
       "    </tr>\n",
       "    <tr>\n",
       "      <th>3</th>\n",
       "      <td>05/01/2007</td>\n",
       "      <td>0.44</td>\n",
       "      <td>1</td>\n",
       "      <td>2007</td>\n",
       "      <td>Jan-</td>\n",
       "      <td>Jan-07</td>\n",
       "    </tr>\n",
       "    <tr>\n",
       "      <th>4</th>\n",
       "      <td>08/01/2007</td>\n",
       "      <td>0.41</td>\n",
       "      <td>1</td>\n",
       "      <td>2007</td>\n",
       "      <td>Jan-</td>\n",
       "      <td>Jan-07</td>\n",
       "    </tr>\n",
       "  </tbody>\n",
       "</table>\n",
       "</div>"
      ],
      "text/plain": [
       "         date  value  day  month  mnth  concat\n",
       "0  02/01/2007   0.42    1   2007  Jan-  Jan-07\n",
       "1  03/01/2007   0.44    1   2007  Jan-  Jan-07\n",
       "2  04/01/2007   0.45    1   2007  Jan-  Jan-07\n",
       "3  05/01/2007   0.44    1   2007  Jan-  Jan-07\n",
       "4  08/01/2007   0.41    1   2007  Jan-  Jan-07"
      ]
     },
     "execution_count": 16,
     "metadata": {},
     "output_type": "execute_result"
    }
   ],
   "source": [
    "ted_spread_data_backup = pd.read_csv('../data/ted-spread-daily-data.csv')\n",
    "ted_spread_data = ted_spread_data_backup.copy()\n",
    "ted_spread_data.head()"
   ]
  },
  {
   "cell_type": "code",
   "execution_count": 17,
   "metadata": {
    "scrolled": true
   },
   "outputs": [
    {
     "name": "stderr",
     "output_type": "stream",
     "text": [
      "C:\\Users\\User1\\anaconda3\\lib\\site-packages\\pandas\\core\\frame.py:4133: SettingWithCopyWarning: \n",
      "A value is trying to be set on a copy of a slice from a DataFrame\n",
      "\n",
      "See the caveats in the documentation: https://pandas.pydata.org/pandas-docs/stable/user_guide/indexing.html#returning-a-view-versus-a-copy\n",
      "  errors=errors,\n"
     ]
    },
    {
     "data": {
      "text/html": [
       "<div>\n",
       "<style scoped>\n",
       "    .dataframe tbody tr th:only-of-type {\n",
       "        vertical-align: middle;\n",
       "    }\n",
       "\n",
       "    .dataframe tbody tr th {\n",
       "        vertical-align: top;\n",
       "    }\n",
       "\n",
       "    .dataframe thead th {\n",
       "        text-align: right;\n",
       "    }\n",
       "</style>\n",
       "<table border=\"1\" class=\"dataframe\">\n",
       "  <thead>\n",
       "    <tr style=\"text-align: right;\">\n",
       "      <th></th>\n",
       "      <th>date</th>\n",
       "      <th>ted_spread</th>\n",
       "      <th>issue_d</th>\n",
       "    </tr>\n",
       "  </thead>\n",
       "  <tbody>\n",
       "    <tr>\n",
       "      <th>0</th>\n",
       "      <td>02/01/2007</td>\n",
       "      <td>0.42</td>\n",
       "      <td>Jan-07</td>\n",
       "    </tr>\n",
       "    <tr>\n",
       "      <th>1</th>\n",
       "      <td>03/01/2007</td>\n",
       "      <td>0.44</td>\n",
       "      <td>Jan-07</td>\n",
       "    </tr>\n",
       "    <tr>\n",
       "      <th>2</th>\n",
       "      <td>04/01/2007</td>\n",
       "      <td>0.45</td>\n",
       "      <td>Jan-07</td>\n",
       "    </tr>\n",
       "    <tr>\n",
       "      <th>3</th>\n",
       "      <td>05/01/2007</td>\n",
       "      <td>0.44</td>\n",
       "      <td>Jan-07</td>\n",
       "    </tr>\n",
       "    <tr>\n",
       "      <th>4</th>\n",
       "      <td>08/01/2007</td>\n",
       "      <td>0.41</td>\n",
       "      <td>Jan-07</td>\n",
       "    </tr>\n",
       "  </tbody>\n",
       "</table>\n",
       "</div>"
      ],
      "text/plain": [
       "         date  ted_spread issue_d\n",
       "0  02/01/2007        0.42  Jan-07\n",
       "1  03/01/2007        0.44  Jan-07\n",
       "2  04/01/2007        0.45  Jan-07\n",
       "3  05/01/2007        0.44  Jan-07\n",
       "4  08/01/2007        0.41  Jan-07"
      ]
     },
     "execution_count": 17,
     "metadata": {},
     "output_type": "execute_result"
    }
   ],
   "source": [
    "ted_spread_data = clockwork.mkt_data_trim(ted_spread_data,'ted_spread')\n",
    "ted_spread_data.head()"
   ]
  },
  {
   "cell_type": "code",
   "execution_count": 18,
   "metadata": {},
   "outputs": [],
   "source": [
    "ted_spread_data = clockwork.mkt_data_transform(ted_spread_data,'ted_spread')"
   ]
  },
  {
   "cell_type": "code",
   "execution_count": 19,
   "metadata": {},
   "outputs": [
    {
     "data": {
      "text/plain": [
       "True"
      ]
     },
     "execution_count": 19,
     "metadata": {},
     "output_type": "execute_result"
    }
   ],
   "source": [
    "len(ted_spread_data) == len(vix_data)"
   ]
  },
  {
   "cell_type": "code",
   "execution_count": 20,
   "metadata": {},
   "outputs": [],
   "source": [
    "macro_data = pd.merge(vix_data, ted_spread_data, on='issue_d')"
   ]
  },
  {
   "cell_type": "code",
   "execution_count": 21,
   "metadata": {},
   "outputs": [],
   "source": [
    "import datetime"
   ]
  },
  {
   "cell_type": "code",
   "execution_count": 22,
   "metadata": {},
   "outputs": [
    {
     "data": {
      "text/plain": [
       "156"
      ]
     },
     "execution_count": 22,
     "metadata": {},
     "output_type": "execute_result"
    }
   ],
   "source": [
    "macro_data['year']=pd.to_datetime(macro_data['year'])\n",
    "macro_data.index = macro_data[\"year\"]\n",
    "\n",
    "len(macro_data)"
   ]
  },
  {
   "cell_type": "code",
   "execution_count": 23,
   "metadata": {},
   "outputs": [
    {
     "data": {
      "text/html": [
       "<div>\n",
       "<style scoped>\n",
       "    .dataframe tbody tr th:only-of-type {\n",
       "        vertical-align: middle;\n",
       "    }\n",
       "\n",
       "    .dataframe tbody tr th {\n",
       "        vertical-align: top;\n",
       "    }\n",
       "\n",
       "    .dataframe thead th {\n",
       "        text-align: right;\n",
       "    }\n",
       "</style>\n",
       "<table border=\"1\" class=\"dataframe\">\n",
       "  <thead>\n",
       "    <tr style=\"text-align: right;\">\n",
       "      <th></th>\n",
       "      <th>vix_mean</th>\n",
       "      <th>vix_min</th>\n",
       "      <th>vix_max</th>\n",
       "      <th>vix_spread</th>\n",
       "      <th>issue_d</th>\n",
       "      <th>year</th>\n",
       "      <th>ted_spread_mean</th>\n",
       "      <th>ted_spread_min</th>\n",
       "      <th>ted_spread_max</th>\n",
       "      <th>ted_spread_spread</th>\n",
       "    </tr>\n",
       "    <tr>\n",
       "      <th>year</th>\n",
       "      <th></th>\n",
       "      <th></th>\n",
       "      <th></th>\n",
       "      <th></th>\n",
       "      <th></th>\n",
       "      <th></th>\n",
       "      <th></th>\n",
       "      <th></th>\n",
       "      <th></th>\n",
       "      <th></th>\n",
       "    </tr>\n",
       "  </thead>\n",
       "  <tbody>\n",
       "    <tr>\n",
       "      <th>2007-04-01</th>\n",
       "      <td>12.93</td>\n",
       "      <td>11.98</td>\n",
       "      <td>14.53</td>\n",
       "      <td>2.55</td>\n",
       "      <td>Apr-07</td>\n",
       "      <td>2007-04-01</td>\n",
       "      <td>0.49</td>\n",
       "      <td>0.43</td>\n",
       "      <td>0.57</td>\n",
       "      <td>0.14</td>\n",
       "    </tr>\n",
       "    <tr>\n",
       "      <th>2008-04-01</th>\n",
       "      <td>21.56</td>\n",
       "      <td>19.59</td>\n",
       "      <td>23.82</td>\n",
       "      <td>4.23</td>\n",
       "      <td>Apr-08</td>\n",
       "      <td>2008-04-01</td>\n",
       "      <td>1.50</td>\n",
       "      <td>1.28</td>\n",
       "      <td>1.68</td>\n",
       "      <td>0.40</td>\n",
       "    </tr>\n",
       "  </tbody>\n",
       "</table>\n",
       "</div>"
      ],
      "text/plain": [
       "            vix_mean  vix_min  vix_max  vix_spread issue_d       year  \\\n",
       "year                                                                    \n",
       "2007-04-01     12.93    11.98    14.53        2.55  Apr-07 2007-04-01   \n",
       "2008-04-01     21.56    19.59    23.82        4.23  Apr-08 2008-04-01   \n",
       "\n",
       "            ted_spread_mean  ted_spread_min  ted_spread_max  ted_spread_spread  \n",
       "year                                                                            \n",
       "2007-04-01             0.49            0.43            0.57               0.14  \n",
       "2008-04-01             1.50            1.28            1.68               0.40  "
      ]
     },
     "execution_count": 23,
     "metadata": {},
     "output_type": "execute_result"
    }
   ],
   "source": [
    "macro_data.head(2)"
   ]
  },
  {
   "cell_type": "markdown",
   "metadata": {},
   "source": [
    "Let's put all the macro economic series and features we have created together in one dataframe to use later"
   ]
  },
  {
   "cell_type": "code",
   "execution_count": 24,
   "metadata": {
    "scrolled": true
   },
   "outputs": [
    {
     "data": {
      "text/html": [
       "<div>\n",
       "<style scoped>\n",
       "    .dataframe tbody tr th:only-of-type {\n",
       "        vertical-align: middle;\n",
       "    }\n",
       "\n",
       "    .dataframe tbody tr th {\n",
       "        vertical-align: top;\n",
       "    }\n",
       "\n",
       "    .dataframe thead th {\n",
       "        text-align: right;\n",
       "    }\n",
       "</style>\n",
       "<table border=\"1\" class=\"dataframe\">\n",
       "  <thead>\n",
       "    <tr style=\"text-align: right;\">\n",
       "      <th></th>\n",
       "      <th>vix_mean</th>\n",
       "      <th>vix_min</th>\n",
       "      <th>vix_max</th>\n",
       "      <th>vix_spread</th>\n",
       "      <th>issue_d</th>\n",
       "      <th>year</th>\n",
       "      <th>ted_spread_mean</th>\n",
       "      <th>ted_spread_min</th>\n",
       "      <th>ted_spread_max</th>\n",
       "      <th>ted_spread_spread</th>\n",
       "      <th>nat_unemp</th>\n",
       "    </tr>\n",
       "    <tr>\n",
       "      <th>year</th>\n",
       "      <th></th>\n",
       "      <th></th>\n",
       "      <th></th>\n",
       "      <th></th>\n",
       "      <th></th>\n",
       "      <th></th>\n",
       "      <th></th>\n",
       "      <th></th>\n",
       "      <th></th>\n",
       "      <th></th>\n",
       "      <th></th>\n",
       "    </tr>\n",
       "  </thead>\n",
       "  <tbody>\n",
       "    <tr>\n",
       "      <th>2007-01-01</th>\n",
       "      <td>11.04</td>\n",
       "      <td>9.89</td>\n",
       "      <td>12.14</td>\n",
       "      <td>2.25</td>\n",
       "      <td>Jan-07</td>\n",
       "      <td>2007-01-01</td>\n",
       "      <td>0.38</td>\n",
       "      <td>0.35</td>\n",
       "      <td>0.45</td>\n",
       "      <td>0.10</td>\n",
       "      <td>4.6</td>\n",
       "    </tr>\n",
       "    <tr>\n",
       "      <th>2007-02-01</th>\n",
       "      <td>11.16</td>\n",
       "      <td>10.02</td>\n",
       "      <td>18.31</td>\n",
       "      <td>8.29</td>\n",
       "      <td>Feb-07</td>\n",
       "      <td>2007-02-01</td>\n",
       "      <td>0.33</td>\n",
       "      <td>0.31</td>\n",
       "      <td>0.37</td>\n",
       "      <td>0.06</td>\n",
       "      <td>4.5</td>\n",
       "    </tr>\n",
       "  </tbody>\n",
       "</table>\n",
       "</div>"
      ],
      "text/plain": [
       "            vix_mean  vix_min  vix_max  vix_spread issue_d       year  \\\n",
       "year                                                                    \n",
       "2007-01-01     11.04     9.89    12.14        2.25  Jan-07 2007-01-01   \n",
       "2007-02-01     11.16    10.02    18.31        8.29  Feb-07 2007-02-01   \n",
       "\n",
       "            ted_spread_mean  ted_spread_min  ted_spread_max  \\\n",
       "year                                                          \n",
       "2007-01-01             0.38            0.35            0.45   \n",
       "2007-02-01             0.33            0.31            0.37   \n",
       "\n",
       "            ted_spread_spread  nat_unemp  \n",
       "year                                      \n",
       "2007-01-01               0.10        4.6  \n",
       "2007-02-01               0.06        4.5  "
      ]
     },
     "execution_count": 24,
     "metadata": {},
     "output_type": "execute_result"
    }
   ],
   "source": [
    "macro_data = pd.merge(macro_data, unemployment_data, on='issue_d')\n",
    "macro_data.index = macro_data[\"year\"]\n",
    "macro_data = macro_data.sort_index()\n",
    "\n",
    "macro_data.head(2)"
   ]
  },
  {
   "cell_type": "code",
   "execution_count": 25,
   "metadata": {},
   "outputs": [
    {
     "data": {
      "text/html": [
       "<div>\n",
       "<style scoped>\n",
       "    .dataframe tbody tr th:only-of-type {\n",
       "        vertical-align: middle;\n",
       "    }\n",
       "\n",
       "    .dataframe tbody tr th {\n",
       "        vertical-align: top;\n",
       "    }\n",
       "\n",
       "    .dataframe thead th {\n",
       "        text-align: right;\n",
       "    }\n",
       "</style>\n",
       "<table border=\"1\" class=\"dataframe\">\n",
       "  <thead>\n",
       "    <tr style=\"text-align: right;\">\n",
       "      <th></th>\n",
       "      <th>vix_mean</th>\n",
       "      <th>vix_min</th>\n",
       "      <th>vix_max</th>\n",
       "      <th>vix_spread</th>\n",
       "      <th>issue_d</th>\n",
       "      <th>year</th>\n",
       "      <th>ted_spread_mean</th>\n",
       "      <th>ted_spread_min</th>\n",
       "      <th>ted_spread_max</th>\n",
       "      <th>ted_spread_spread</th>\n",
       "      <th>nat_unemp</th>\n",
       "      <th>retail_sales</th>\n",
       "    </tr>\n",
       "    <tr>\n",
       "      <th>year</th>\n",
       "      <th></th>\n",
       "      <th></th>\n",
       "      <th></th>\n",
       "      <th></th>\n",
       "      <th></th>\n",
       "      <th></th>\n",
       "      <th></th>\n",
       "      <th></th>\n",
       "      <th></th>\n",
       "      <th></th>\n",
       "      <th></th>\n",
       "      <th></th>\n",
       "    </tr>\n",
       "  </thead>\n",
       "  <tbody>\n",
       "    <tr>\n",
       "      <th>2007-01-01</th>\n",
       "      <td>11.04</td>\n",
       "      <td>9.89</td>\n",
       "      <td>12.14</td>\n",
       "      <td>2.25</td>\n",
       "      <td>Jan-07</td>\n",
       "      <td>2007-01-01</td>\n",
       "      <td>0.38</td>\n",
       "      <td>0.35</td>\n",
       "      <td>0.45</td>\n",
       "      <td>0.10</td>\n",
       "      <td>4.6</td>\n",
       "      <td>1.000000</td>\n",
       "    </tr>\n",
       "    <tr>\n",
       "      <th>2007-02-01</th>\n",
       "      <td>11.16</td>\n",
       "      <td>10.02</td>\n",
       "      <td>18.31</td>\n",
       "      <td>8.29</td>\n",
       "      <td>Feb-07</td>\n",
       "      <td>2007-02-01</td>\n",
       "      <td>0.33</td>\n",
       "      <td>0.31</td>\n",
       "      <td>0.37</td>\n",
       "      <td>0.06</td>\n",
       "      <td>4.5</td>\n",
       "      <td>0.997208</td>\n",
       "    </tr>\n",
       "  </tbody>\n",
       "</table>\n",
       "</div>"
      ],
      "text/plain": [
       "            vix_mean  vix_min  vix_max  vix_spread issue_d       year  \\\n",
       "year                                                                    \n",
       "2007-01-01     11.04     9.89    12.14        2.25  Jan-07 2007-01-01   \n",
       "2007-02-01     11.16    10.02    18.31        8.29  Feb-07 2007-02-01   \n",
       "\n",
       "            ted_spread_mean  ted_spread_min  ted_spread_max  \\\n",
       "year                                                          \n",
       "2007-01-01             0.38            0.35            0.45   \n",
       "2007-02-01             0.33            0.31            0.37   \n",
       "\n",
       "            ted_spread_spread  nat_unemp  retail_sales  \n",
       "year                                                    \n",
       "2007-01-01               0.10        4.6      1.000000  \n",
       "2007-02-01               0.06        4.5      0.997208  "
      ]
     },
     "execution_count": 25,
     "metadata": {},
     "output_type": "execute_result"
    }
   ],
   "source": [
    "macro_data = pd.merge(macro_data, retail_data, on='issue_d')\n",
    "macro_data.index = macro_data[\"year\"]\n",
    "macro_data = macro_data.sort_index()\n",
    "macro_data.head(2)"
   ]
  },
  {
   "cell_type": "code",
   "execution_count": 26,
   "metadata": {},
   "outputs": [],
   "source": [
    "import matplotlib.pyplot as plt"
   ]
  },
  {
   "cell_type": "code",
   "execution_count": 27,
   "metadata": {},
   "outputs": [],
   "source": [
    "def macro_plot(series_1,series_2, series_3,title):\n",
    "        \n",
    "    plt.plot(macro_data['year'], macro_data[series_1], color='b')\n",
    "    plt.plot(macro_data['year'], macro_data[series_2], color='y')\n",
    "    plt.plot(macro_data['year'], macro_data[series_3], color='r')\n",
    "    plt.xlabel('year')\n",
    "    plt.ylabel(title)\n",
    "    plt.title('Spread in %')\n",
    "    plt.show()  "
   ]
  },
  {
   "cell_type": "code",
   "execution_count": 28,
   "metadata": {},
   "outputs": [
    {
     "data": {
      "image/png": "[encoded data removed]",
      "text/plain": [
       "<Figure size 432x288 with 1 Axes>"
      ]
     },
     "metadata": {
      "needs_background": "light"
     },
     "output_type": "display_data"
    }
   ],
   "source": [
    "macro_plot('ted_spread_spread','ted_spread_min', 'ted_spread_max','Ted Spreads')    "
   ]
  },
  {
   "cell_type": "markdown",
   "metadata": {},
   "source": [
    "It can be seen that the vix monthly min max and mean all seem to represent the same underlying process so it so we will only choose one of them to go into the PD model.\n",
    "We could explore a monthly max(vix_max - vix_min) variable as a feature representing a volatility of volatility component, but it is probably a bit too fancy our model.   "
   ]
  },
  {
   "cell_type": "code",
   "execution_count": 29,
   "metadata": {
    "scrolled": true
   },
   "outputs": [
    {
     "data": {
      "image/png": "[encoded data removed]",
      "text/plain": [
       "<Figure size 432x288 with 1 Axes>"
      ]
     },
     "metadata": {
      "needs_background": "light"
     },
     "output_type": "display_data"
    }
   ],
   "source": [
    "macro_plot('vix_min','vix_max', 'vix_mean', 'vix')    "
   ]
  },
  {
   "cell_type": "markdown",
   "metadata": {},
   "source": [
    "Let's plot the four series together to check there are no show stopping general themes:"
   ]
  },
  {
   "cell_type": "code",
   "execution_count": 30,
   "metadata": {},
   "outputs": [
    {
     "data": {
      "image/png": "[encoded data removed]",
      "text/plain": [
       "<Figure size 432x288 with 1 Axes>"
      ]
     },
     "metadata": {
      "needs_background": "light"
     },
     "output_type": "display_data"
    }
   ],
   "source": [
    "plt.plot(macro_data['year'], macro_data['vix_mean'], color='b')\n",
    "plt.plot(macro_data['year'], macro_data['ted_spread_max'], color='y')\n",
    "plt.plot(macro_data['year'], macro_data['nat_unemp'], color='r')\n",
    "plt.plot(macro_data['year'], macro_data['retail_sales']*15, color='g')\n",
    "\n",
    "plt.xlabel('levels')\n",
    "plt.ylabel('Vix_Data')\n",
    "plt.title('Economic Indicators')\n",
    "plt.show()"
   ]
  },
  {
   "cell_type": "code",
   "execution_count": 31,
   "metadata": {},
   "outputs": [],
   "source": [
    "macro_data.to_pickle(\"../data/macro_variables.pkl\")"
   ]
  }
 ],
 "metadata": {
  "kernelspec": {
   "display_name": "Python 3",
   "language": "python",
   "name": "python3"
  },
  "language_info": {
   "codemirror_mode": {
    "name": "ipython",
    "version": 3
   },
   "file_extension": ".py",
   "mimetype": "text/x-python",
   "name": "python",
   "nbconvert_exporter": "python",
   "pygments_lexer": "ipython3",
   "version": "3.7.6"
  }
 },
 "nbformat": 4,
 "nbformat_minor": 4
}
